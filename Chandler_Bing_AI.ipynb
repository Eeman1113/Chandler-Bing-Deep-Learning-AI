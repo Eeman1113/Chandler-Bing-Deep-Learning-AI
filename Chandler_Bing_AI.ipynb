{
  "nbformat": 4,
  "nbformat_minor": 0,
  "metadata": {
    "colab": {
      "name": "Chandler_Bing_AI.ipynb",
      "provenance": [],
      "collapsed_sections": [],
      "authorship_tag": "ABX9TyOzQHrBe13vFDV6EdE3Dp/T",
      "include_colab_link": true
    },
    "kernelspec": {
      "name": "python3",
      "display_name": "Python 3"
    },
    "language_info": {
      "name": "python"
    }
  },
  "cells": [
    {
      "cell_type": "markdown",
      "metadata": {
        "id": "view-in-github",
        "colab_type": "text"
      },
      "source": [
        "<a href=\"https://colab.research.google.com/github/Eeman1113/Chandler-Bing-Deep-Learning-AI-Chatbot/blob/main/Chandler_Bing_AI.ipynb\" target=\"_parent\"><img src=\"https://colab.research.google.com/assets/colab-badge.svg\" alt=\"Open In Colab\"/></a>"
      ]
    },
    {
      "cell_type": "markdown",
      "source": [
        "<h1><b>Lets make the dataset first</b></h1>"
      ],
      "metadata": {
        "id": "UmyTDH9APPeU"
      }
    },
    {
      "cell_type": "markdown",
      "source": [
        "Lets start by downloading all subtitles file of f.r.i.e.n.d.s and coverting them into text and cleaning them so that only dialogues are left"
      ],
      "metadata": {
        "id": "oKdkqvESOx17"
      }
    },
    {
      "cell_type": "markdown",
      "source": [
        "I did the above in my local system with hand so that you dont have to lets download the already made file:"
      ],
      "metadata": {
        "id": "EpM6AZ_ZPcm-"
      }
    },
    {
      "cell_type": "code",
      "source": [
        "!gdown --id 17MVl9vVzkEpgxf1tK_PuUdlySW-NvAE5"
      ],
      "metadata": {
        "colab": {
          "base_uri": "https://localhost:8080/"
        },
        "id": "W2kywRnQPut8",
        "outputId": "4c6d0ac0-5c4e-45c6-fe17-1fd2fe521d48"
      },
      "execution_count": 28,
      "outputs": [
        {
          "output_type": "stream",
          "name": "stdout",
          "text": [
            "/usr/local/lib/python3.7/dist-packages/gdown/cli.py:131: FutureWarning: Option `--id` was deprecated in version 4.3.1 and will be removed in 5.0. You don't need to pass it anymore to use a file ID.\n",
            "  category=FutureWarning,\n",
            "Downloading...\n",
            "From: https://drive.google.com/uc?id=17MVl9vVzkEpgxf1tK_PuUdlySW-NvAE5\n",
            "To: /content/ALL_Cleaned.txt\n",
            "100% 1.18M/1.18M [00:00<00:00, 119MB/s]\n"
          ]
        }
      ]
    },
    {
      "cell_type": "markdown",
      "source": [
        "Now lets use this file to make a dataframe"
      ],
      "metadata": {
        "id": "ApM37f0hRAa_"
      }
    },
    {
      "cell_type": "code",
      "execution_count": 35,
      "metadata": {
        "id": "PVurivDtOkc9"
      },
      "outputs": [],
      "source": [
        "import pandas as pd \n",
        "\n",
        "file=open('/content/ALL_Cleaned.txt','r')\n",
        "lines=file.readlines()\n",
        "\"add all the lines to a list\"\n",
        "all_lines=[]\n",
        "for line in lines:\n",
        "    all_lines.append(line)\n",
        "\"remove all the empty lines\"\n",
        "all_lines=list(filter(None,all_lines))\n",
        "\"remove all the lines with only one letter\"\n",
        "all_lines=list(filter(lambda x: len(x)>1,all_lines))\n",
        "'remove everything exept alphabetical characters'\n",
        "all_lines=list(map(lambda x: x.strip('\\r').strip('\\t').strip(' ').strip('\\f').strip('\\v'),all_lines))\n",
        "\n",
        "\"create a dataframe\"\n",
        "df=pd.DataFrame()\n",
        "df['Dialogue']=pd.DataFrame(all_lines)\n",
        "\"save the dataframe\"\n",
        "df.to_csv('/content/ALL_Dialogues_in_friends.csv')\n",
        "file.close()"
      ]
    },
    {
      "cell_type": "code",
      "source": [
        "df.head()"
      ],
      "metadata": {
        "id": "bTeHl0EPmDjb",
        "outputId": "f545a61a-61c9-4bc4-9d56-97128576f846",
        "colab": {
          "base_uri": "https://localhost:8080/",
          "height": 204
        }
      },
      "execution_count": 36,
      "outputs": [
        {
          "output_type": "execute_result",
          "data": {
            "text/plain": [
              "                             Dialogue\n",
              "0                 ﻿Ross was in love\\n\n",
              "1        with Rachel since forever.\\n\n",
              "2  Every time he tried to tell her,\\n\n",
              "3       something got in the way...\\n\n",
              "4       ...like cats, Italian guys.\\n"
            ],
            "text/html": [
              "\n",
              "  <div id=\"df-382eb6e7-e75f-4514-af61-6f0205769c67\">\n",
              "    <div class=\"colab-df-container\">\n",
              "      <div>\n",
              "<style scoped>\n",
              "    .dataframe tbody tr th:only-of-type {\n",
              "        vertical-align: middle;\n",
              "    }\n",
              "\n",
              "    .dataframe tbody tr th {\n",
              "        vertical-align: top;\n",
              "    }\n",
              "\n",
              "    .dataframe thead th {\n",
              "        text-align: right;\n",
              "    }\n",
              "</style>\n",
              "<table border=\"1\" class=\"dataframe\">\n",
              "  <thead>\n",
              "    <tr style=\"text-align: right;\">\n",
              "      <th></th>\n",
              "      <th>Dialogue</th>\n",
              "    </tr>\n",
              "  </thead>\n",
              "  <tbody>\n",
              "    <tr>\n",
              "      <th>0</th>\n",
              "      <td>﻿Ross was in love\\n</td>\n",
              "    </tr>\n",
              "    <tr>\n",
              "      <th>1</th>\n",
              "      <td>with Rachel since forever.\\n</td>\n",
              "    </tr>\n",
              "    <tr>\n",
              "      <th>2</th>\n",
              "      <td>Every time he tried to tell her,\\n</td>\n",
              "    </tr>\n",
              "    <tr>\n",
              "      <th>3</th>\n",
              "      <td>something got in the way...\\n</td>\n",
              "    </tr>\n",
              "    <tr>\n",
              "      <th>4</th>\n",
              "      <td>...like cats, Italian guys.\\n</td>\n",
              "    </tr>\n",
              "  </tbody>\n",
              "</table>\n",
              "</div>\n",
              "      <button class=\"colab-df-convert\" onclick=\"convertToInteractive('df-382eb6e7-e75f-4514-af61-6f0205769c67')\"\n",
              "              title=\"Convert this dataframe to an interactive table.\"\n",
              "              style=\"display:none;\">\n",
              "        \n",
              "  <svg xmlns=\"http://www.w3.org/2000/svg\" height=\"24px\"viewBox=\"0 0 24 24\"\n",
              "       width=\"24px\">\n",
              "    <path d=\"M0 0h24v24H0V0z\" fill=\"none\"/>\n",
              "    <path d=\"M18.56 5.44l.94 2.06.94-2.06 2.06-.94-2.06-.94-.94-2.06-.94 2.06-2.06.94zm-11 1L8.5 8.5l.94-2.06 2.06-.94-2.06-.94L8.5 2.5l-.94 2.06-2.06.94zm10 10l.94 2.06.94-2.06 2.06-.94-2.06-.94-.94-2.06-.94 2.06-2.06.94z\"/><path d=\"M17.41 7.96l-1.37-1.37c-.4-.4-.92-.59-1.43-.59-.52 0-1.04.2-1.43.59L10.3 9.45l-7.72 7.72c-.78.78-.78 2.05 0 2.83L4 21.41c.39.39.9.59 1.41.59.51 0 1.02-.2 1.41-.59l7.78-7.78 2.81-2.81c.8-.78.8-2.07 0-2.86zM5.41 20L4 18.59l7.72-7.72 1.47 1.35L5.41 20z\"/>\n",
              "  </svg>\n",
              "      </button>\n",
              "      \n",
              "  <style>\n",
              "    .colab-df-container {\n",
              "      display:flex;\n",
              "      flex-wrap:wrap;\n",
              "      gap: 12px;\n",
              "    }\n",
              "\n",
              "    .colab-df-convert {\n",
              "      background-color: #E8F0FE;\n",
              "      border: none;\n",
              "      border-radius: 50%;\n",
              "      cursor: pointer;\n",
              "      display: none;\n",
              "      fill: #1967D2;\n",
              "      height: 32px;\n",
              "      padding: 0 0 0 0;\n",
              "      width: 32px;\n",
              "    }\n",
              "\n",
              "    .colab-df-convert:hover {\n",
              "      background-color: #E2EBFA;\n",
              "      box-shadow: 0px 1px 2px rgba(60, 64, 67, 0.3), 0px 1px 3px 1px rgba(60, 64, 67, 0.15);\n",
              "      fill: #174EA6;\n",
              "    }\n",
              "\n",
              "    [theme=dark] .colab-df-convert {\n",
              "      background-color: #3B4455;\n",
              "      fill: #D2E3FC;\n",
              "    }\n",
              "\n",
              "    [theme=dark] .colab-df-convert:hover {\n",
              "      background-color: #434B5C;\n",
              "      box-shadow: 0px 1px 3px 1px rgba(0, 0, 0, 0.15);\n",
              "      filter: drop-shadow(0px 1px 2px rgba(0, 0, 0, 0.3));\n",
              "      fill: #FFFFFF;\n",
              "    }\n",
              "  </style>\n",
              "\n",
              "      <script>\n",
              "        const buttonEl =\n",
              "          document.querySelector('#df-382eb6e7-e75f-4514-af61-6f0205769c67 button.colab-df-convert');\n",
              "        buttonEl.style.display =\n",
              "          google.colab.kernel.accessAllowed ? 'block' : 'none';\n",
              "\n",
              "        async function convertToInteractive(key) {\n",
              "          const element = document.querySelector('#df-382eb6e7-e75f-4514-af61-6f0205769c67');\n",
              "          const dataTable =\n",
              "            await google.colab.kernel.invokeFunction('convertToInteractive',\n",
              "                                                     [key], {});\n",
              "          if (!dataTable) return;\n",
              "\n",
              "          const docLinkHtml = 'Like what you see? Visit the ' +\n",
              "            '<a target=\"_blank\" href=https://colab.research.google.com/notebooks/data_table.ipynb>data table notebook</a>'\n",
              "            + ' to learn more about interactive tables.';\n",
              "          element.innerHTML = '';\n",
              "          dataTable['output_type'] = 'display_data';\n",
              "          await google.colab.output.renderOutput(dataTable, element);\n",
              "          const docLink = document.createElement('div');\n",
              "          docLink.innerHTML = docLinkHtml;\n",
              "          element.appendChild(docLink);\n",
              "        }\n",
              "      </script>\n",
              "    </div>\n",
              "  </div>\n",
              "  "
            ]
          },
          "metadata": {},
          "execution_count": 36
        }
      ]
    },
    {
      "cell_type": "markdown",
      "source": [
        "If you want to use the dataset for yourself here is the kaggle link:\n",
        "https://www.kaggle.com/datasets/eemanmajumder/all-dialogues-in-friends"
      ],
      "metadata": {
        "id": "SL_u8EoKRJPA"
      }
    },
    {
      "cell_type": "markdown",
      "source": [
        "<h2>Now lets use sentiment analysis to rate the sentiments of the dialogues.</h2>"
      ],
      "metadata": {
        "id": "u-HG6QVSKlWx"
      }
    },
    {
      "cell_type": "code",
      "source": [
        "! pip install textblob\n",
        "from textblob import TextBlob\n",
        "df['score']=df['Dialogue'].apply(lambda x: TextBlob(x).sentiment.polarity)\n",
        "df['sentiment']=df['Dialogue'].apply(lambda x: TextBlob(x).sentiment.subjectivity)\n",
        "df.to_csv('/content/ALL_Dialogues_in_friends_after_sentiment_analysis.csv')"
      ],
      "metadata": {
        "colab": {
          "base_uri": "https://localhost:8080/"
        },
        "id": "FVheemBFKiCy",
        "outputId": "781a2be1-9df7-4cb8-fce7-765fc8036757"
      },
      "execution_count": 37,
      "outputs": [
        {
          "output_type": "stream",
          "name": "stdout",
          "text": [
            "Requirement already satisfied: textblob in /usr/local/lib/python3.7/dist-packages (0.15.3)\n",
            "Requirement already satisfied: nltk>=3.1 in /usr/local/lib/python3.7/dist-packages (from textblob) (3.2.5)\n",
            "Requirement already satisfied: six in /usr/local/lib/python3.7/dist-packages (from nltk>=3.1->textblob) (1.15.0)\n"
          ]
        }
      ]
    },
    {
      "cell_type": "code",
      "source": [
        "import nltk\n",
        "nltk.download('stopwords')\n",
        "nltk.download('punkt')\n",
        "nltk.download('wordnet')\n",
        "!gdown --id https://drive.google.com/file/d/1xsYC2UF1JAR7BIiNSU4iGbTZytYNzYof/view?usp=sharing\n",
        "!gdown --id https://drive.google.com/file/d/1BGTVDjg8EwzUJmSwsmn2sEz9lJD2_3-w/view?usp=sharing"
      ],
      "metadata": {
        "colab": {
          "base_uri": "https://localhost:8080/"
        },
        "id": "3J9oS1lTntay",
        "outputId": "a7e3bfd9-5517-49bc-d249-b8c66c4f0bf9"
      },
      "execution_count": 38,
      "outputs": [
        {
          "output_type": "stream",
          "name": "stdout",
          "text": [
            "[nltk_data] Downloading package stopwords to /root/nltk_data...\n",
            "[nltk_data]   Package stopwords is already up-to-date!\n",
            "[nltk_data] Downloading package punkt to /root/nltk_data...\n",
            "[nltk_data]   Package punkt is already up-to-date!\n",
            "[nltk_data] Downloading package wordnet to /root/nltk_data...\n",
            "[nltk_data]   Package wordnet is already up-to-date!\n",
            "/usr/local/lib/python3.7/dist-packages/gdown/cli.py:131: FutureWarning: Option `--id` was deprecated in version 4.3.1 and will be removed in 5.0. You don't need to pass it anymore to use a file ID.\n",
            "  category=FutureWarning,\n",
            "Access denied with the following error:\n",
            "\n",
            " \tCannot retrieve the public link of the file. You may need to change\n",
            "\tthe permission to 'Anyone with the link', or have had many accesses. \n",
            "\n",
            "You may still be able to access the file from the browser:\n",
            "\n",
            "\t https://drive.google.com/uc?id=https://drive.google.com/file/d/1xsYC2UF1JAR7BIiNSU4iGbTZytYNzYof/view?usp=sharing \n",
            "\n",
            "/usr/local/lib/python3.7/dist-packages/gdown/cli.py:131: FutureWarning: Option `--id` was deprecated in version 4.3.1 and will be removed in 5.0. You don't need to pass it anymore to use a file ID.\n",
            "  category=FutureWarning,\n",
            "Access denied with the following error:\n",
            "\n",
            " \tCannot retrieve the public link of the file. You may need to change\n",
            "\tthe permission to 'Anyone with the link', or have had many accesses. \n",
            "\n",
            "You may still be able to access the file from the browser:\n",
            "\n",
            "\t https://drive.google.com/uc?id=https://drive.google.com/file/d/1BGTVDjg8EwzUJmSwsmn2sEz9lJD2_3-w/view?usp=sharing \n",
            "\n"
          ]
        }
      ]
    },
    {
      "cell_type": "code",
      "source": [
        "import pandas as pd\n",
        "from nltk.corpus import stopwords\n",
        "from nltk.tokenize import word_tokenize\n",
        "from nltk.stem import WordNetLemmatizer\n",
        "import re\n",
        "df = pd.read_csv('/content/ALL_Dialogues_in_friends.csv', usecols=['Dialogue'])\n",
        "lemma = WordNetLemmatizer()\n",
        "stop_words = stopwords.words('english')\n",
        "def text_prep(x: str) -> list:\n",
        "     corp = str(x).lower() \n",
        "     corp = re.sub('[^a-zA-Z]+',' ', corp).strip() \n",
        "     tokens = word_tokenize(corp)\n",
        "     words = [t for t in tokens if t not in stop_words]\n",
        "     lemmatize = [lemma.lemmatize(w) for w in words]\n",
        "     return lemmatize\n",
        "preprocess_tag = [text_prep(i) for i in df['Dialogue']]\n",
        "df[\"preprocess_txt\"] = preprocess_tag\n",
        "df['total_len'] = df['preprocess_txt'].map(lambda x: len(x))\n",
        "file = open('negative-words.txt', 'r',encoding = \"ISO-8859-1\")\n",
        "neg_words = file.read().split()\n",
        "file = open('positive-words.txt', 'r',encoding = \"ISO-8859-1\")\n",
        "pos_words = file.read().split()\n",
        "num_pos = df['preprocess_txt'].map(lambda x: len([i for i in x if i in pos_words]))\n",
        "df['pos_count'] = num_pos\n",
        "num_neg = df['preprocess_txt'].map(lambda x: len([i for i in x if i in neg_words]))\n",
        "df['neg_count'] = num_neg\n",
        "df['sentiment'] = round((df['pos_count'] - df['neg_count']) / df['total_len'], 2)\n",
        "df.to_csv('/content/ALL_Dialogues_in_friends_after_sentiment_analysis_nltk.csv')\n",
        "df.head()"
      ],
      "metadata": {
        "colab": {
          "base_uri": "https://localhost:8080/",
          "height": 204
        },
        "id": "iB0gtSoBnOj1",
        "outputId": "2633078f-570a-46dc-a55c-bc59578cd10d"
      },
      "execution_count": 34,
      "outputs": [
        {
          "output_type": "execute_result",
          "data": {
            "text/plain": [
              "                             Dialogue              preprocess_txt  total_len  \\\n",
              "0                 ﻿Ross was in love\\n                [ross, love]          2   \n",
              "1        with Rachel since forever.\\n    [rachel, since, forever]          3   \n",
              "2  Every time he tried to tell her,\\n  [every, time, tried, tell]          4   \n",
              "3       something got in the way...\\n       [something, got, way]          3   \n",
              "4       ...like cats, Italian guys.\\n   [like, cat, italian, guy]          4   \n",
              "\n",
              "   pos_count  neg_count  sentiment  \n",
              "0          1          0       0.50  \n",
              "1          0          0       0.00  \n",
              "2          0          0       0.00  \n",
              "3          0          0       0.00  \n",
              "4          1          0       0.25  "
            ],
            "text/html": [
              "\n",
              "  <div id=\"df-8dfad782-7f26-497a-9de1-c4f683813c13\">\n",
              "    <div class=\"colab-df-container\">\n",
              "      <div>\n",
              "<style scoped>\n",
              "    .dataframe tbody tr th:only-of-type {\n",
              "        vertical-align: middle;\n",
              "    }\n",
              "\n",
              "    .dataframe tbody tr th {\n",
              "        vertical-align: top;\n",
              "    }\n",
              "\n",
              "    .dataframe thead th {\n",
              "        text-align: right;\n",
              "    }\n",
              "</style>\n",
              "<table border=\"1\" class=\"dataframe\">\n",
              "  <thead>\n",
              "    <tr style=\"text-align: right;\">\n",
              "      <th></th>\n",
              "      <th>Dialogue</th>\n",
              "      <th>preprocess_txt</th>\n",
              "      <th>total_len</th>\n",
              "      <th>pos_count</th>\n",
              "      <th>neg_count</th>\n",
              "      <th>sentiment</th>\n",
              "    </tr>\n",
              "  </thead>\n",
              "  <tbody>\n",
              "    <tr>\n",
              "      <th>0</th>\n",
              "      <td>﻿Ross was in love\\n</td>\n",
              "      <td>[ross, love]</td>\n",
              "      <td>2</td>\n",
              "      <td>1</td>\n",
              "      <td>0</td>\n",
              "      <td>0.50</td>\n",
              "    </tr>\n",
              "    <tr>\n",
              "      <th>1</th>\n",
              "      <td>with Rachel since forever.\\n</td>\n",
              "      <td>[rachel, since, forever]</td>\n",
              "      <td>3</td>\n",
              "      <td>0</td>\n",
              "      <td>0</td>\n",
              "      <td>0.00</td>\n",
              "    </tr>\n",
              "    <tr>\n",
              "      <th>2</th>\n",
              "      <td>Every time he tried to tell her,\\n</td>\n",
              "      <td>[every, time, tried, tell]</td>\n",
              "      <td>4</td>\n",
              "      <td>0</td>\n",
              "      <td>0</td>\n",
              "      <td>0.00</td>\n",
              "    </tr>\n",
              "    <tr>\n",
              "      <th>3</th>\n",
              "      <td>something got in the way...\\n</td>\n",
              "      <td>[something, got, way]</td>\n",
              "      <td>3</td>\n",
              "      <td>0</td>\n",
              "      <td>0</td>\n",
              "      <td>0.00</td>\n",
              "    </tr>\n",
              "    <tr>\n",
              "      <th>4</th>\n",
              "      <td>...like cats, Italian guys.\\n</td>\n",
              "      <td>[like, cat, italian, guy]</td>\n",
              "      <td>4</td>\n",
              "      <td>1</td>\n",
              "      <td>0</td>\n",
              "      <td>0.25</td>\n",
              "    </tr>\n",
              "  </tbody>\n",
              "</table>\n",
              "</div>\n",
              "      <button class=\"colab-df-convert\" onclick=\"convertToInteractive('df-8dfad782-7f26-497a-9de1-c4f683813c13')\"\n",
              "              title=\"Convert this dataframe to an interactive table.\"\n",
              "              style=\"display:none;\">\n",
              "        \n",
              "  <svg xmlns=\"http://www.w3.org/2000/svg\" height=\"24px\"viewBox=\"0 0 24 24\"\n",
              "       width=\"24px\">\n",
              "    <path d=\"M0 0h24v24H0V0z\" fill=\"none\"/>\n",
              "    <path d=\"M18.56 5.44l.94 2.06.94-2.06 2.06-.94-2.06-.94-.94-2.06-.94 2.06-2.06.94zm-11 1L8.5 8.5l.94-2.06 2.06-.94-2.06-.94L8.5 2.5l-.94 2.06-2.06.94zm10 10l.94 2.06.94-2.06 2.06-.94-2.06-.94-.94-2.06-.94 2.06-2.06.94z\"/><path d=\"M17.41 7.96l-1.37-1.37c-.4-.4-.92-.59-1.43-.59-.52 0-1.04.2-1.43.59L10.3 9.45l-7.72 7.72c-.78.78-.78 2.05 0 2.83L4 21.41c.39.39.9.59 1.41.59.51 0 1.02-.2 1.41-.59l7.78-7.78 2.81-2.81c.8-.78.8-2.07 0-2.86zM5.41 20L4 18.59l7.72-7.72 1.47 1.35L5.41 20z\"/>\n",
              "  </svg>\n",
              "      </button>\n",
              "      \n",
              "  <style>\n",
              "    .colab-df-container {\n",
              "      display:flex;\n",
              "      flex-wrap:wrap;\n",
              "      gap: 12px;\n",
              "    }\n",
              "\n",
              "    .colab-df-convert {\n",
              "      background-color: #E8F0FE;\n",
              "      border: none;\n",
              "      border-radius: 50%;\n",
              "      cursor: pointer;\n",
              "      display: none;\n",
              "      fill: #1967D2;\n",
              "      height: 32px;\n",
              "      padding: 0 0 0 0;\n",
              "      width: 32px;\n",
              "    }\n",
              "\n",
              "    .colab-df-convert:hover {\n",
              "      background-color: #E2EBFA;\n",
              "      box-shadow: 0px 1px 2px rgba(60, 64, 67, 0.3), 0px 1px 3px 1px rgba(60, 64, 67, 0.15);\n",
              "      fill: #174EA6;\n",
              "    }\n",
              "\n",
              "    [theme=dark] .colab-df-convert {\n",
              "      background-color: #3B4455;\n",
              "      fill: #D2E3FC;\n",
              "    }\n",
              "\n",
              "    [theme=dark] .colab-df-convert:hover {\n",
              "      background-color: #434B5C;\n",
              "      box-shadow: 0px 1px 3px 1px rgba(0, 0, 0, 0.15);\n",
              "      filter: drop-shadow(0px 1px 2px rgba(0, 0, 0, 0.3));\n",
              "      fill: #FFFFFF;\n",
              "    }\n",
              "  </style>\n",
              "\n",
              "      <script>\n",
              "        const buttonEl =\n",
              "          document.querySelector('#df-8dfad782-7f26-497a-9de1-c4f683813c13 button.colab-df-convert');\n",
              "        buttonEl.style.display =\n",
              "          google.colab.kernel.accessAllowed ? 'block' : 'none';\n",
              "\n",
              "        async function convertToInteractive(key) {\n",
              "          const element = document.querySelector('#df-8dfad782-7f26-497a-9de1-c4f683813c13');\n",
              "          const dataTable =\n",
              "            await google.colab.kernel.invokeFunction('convertToInteractive',\n",
              "                                                     [key], {});\n",
              "          if (!dataTable) return;\n",
              "\n",
              "          const docLinkHtml = 'Like what you see? Visit the ' +\n",
              "            '<a target=\"_blank\" href=https://colab.research.google.com/notebooks/data_table.ipynb>data table notebook</a>'\n",
              "            + ' to learn more about interactive tables.';\n",
              "          element.innerHTML = '';\n",
              "          dataTable['output_type'] = 'display_data';\n",
              "          await google.colab.output.renderOutput(dataTable, element);\n",
              "          const docLink = document.createElement('div');\n",
              "          docLink.innerHTML = docLinkHtml;\n",
              "          element.appendChild(docLink);\n",
              "        }\n",
              "      </script>\n",
              "    </div>\n",
              "  </div>\n",
              "  "
            ]
          },
          "metadata": {},
          "execution_count": 34
        }
      ]
    }
  ]
}